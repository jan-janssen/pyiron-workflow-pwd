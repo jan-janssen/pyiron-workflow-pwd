{
 "cells": [
  {
   "cell_type": "code",
   "execution_count": 1,
   "id": "4655322e-5755-455e-aff7-30067a999b7d",
   "metadata": {},
   "outputs": [],
   "source": [
    "from pyiron_workflow import Workflow, function_node"
   ]
  },
  {
   "cell_type": "code",
   "execution_count": 2,
   "id": "20e8c043-d323-4abf-81f9-d375d866bb2b",
   "metadata": {},
   "outputs": [],
   "source": [
    "from inspect import isfunction"
   ]
  },
  {
   "cell_type": "code",
   "execution_count": 3,
   "id": "8842b3dd-a8c3-4c37-9cd0-9d8d46b931f3",
   "metadata": {},
   "outputs": [],
   "source": [
    "def create_input_nodes(nodes_dict, edges_lst):\n",
    "    node_conversion_dict = {\n",
    "        ed['source']: ed['targetHandle']\n",
    "        for ed in edges_lst if ed[\"sourceHandle\"] is None\n",
    "    }\n",
    "    nodes_to_create_dict = {\n",
    "        v: nodes_dict[k] \n",
    "        for k, v in node_conversion_dict.items()\n",
    "    }\n",
    "    return nodes_to_create_dict, node_conversion_dict"
   ]
  },
  {
   "cell_type": "code",
   "execution_count": 4,
   "id": "42ab5c6c-86d3-4eee-9723-ea25d0565ec0",
   "metadata": {},
   "outputs": [],
   "source": [
    "def set_input_nodes(workflow, nodes_to_create_dict):\n",
    "    for k, v in nodes_to_create_dict.items():\n",
    "        workflow.__setattr__(k, v)\n",
    "    return workflow"
   ]
  },
  {
   "cell_type": "code",
   "execution_count": 5,
   "id": "c14d195f-4563-4b66-ae0b-b78c9bb46391",
   "metadata": {},
   "outputs": [],
   "source": [
    "def get_source_handles(edges_lst):\n",
    "    source_handle_dict = {}\n",
    "    for ed in edges_lst: \n",
    "        if ed['source'] not in source_handle_dict.keys():\n",
    "            source_handle_dict[ed['source']] = [ed['sourceHandle']]\n",
    "        else:\n",
    "            source_handle_dict[ed['source']].append(ed['sourceHandle'])\n",
    "    return source_handle_dict"
   ]
  },
  {
   "cell_type": "code",
   "execution_count": 6,
   "id": "c3e7d327-3968-42c0-962a-79d281d325aa",
   "metadata": {},
   "outputs": [],
   "source": [
    "def get_function_nodes(nodes_dict):\n",
    "    function_dict = {}\n",
    "    for k, v in nodes_dict.items():\n",
    "        if isfunction(v):\n",
    "            if k in source_handle_dict.keys():\n",
    "                function_dict[k] = {\"node_function\": v, \"output_labels\": source_handle_dict[k]}\n",
    "            else:\n",
    "                function_dict[k] = {\"node_function\": v}\n",
    "    return function_dict"
   ]
  },
  {
   "cell_type": "code",
   "execution_count": 7,
   "id": "8baf12cf-a291-45c8-bc33-9442cf50d543",
   "metadata": {},
   "outputs": [],
   "source": [
    "def get_kwargs(lst):\n",
    "    return {t['targetHandle']: {'source': t['source'], 'sourceHandle': t['sourceHandle']} for t in lst}"
   ]
  },
  {
   "cell_type": "code",
   "execution_count": 8,
   "id": "0f6a7fa2-a7c2-4d34-9ce6-f016e2a7e21e",
   "metadata": {},
   "outputs": [],
   "source": [
    "def group_edges(edges_lst):\n",
    "    edges_sorted_lst = sorted(edges_lst, key=lambda x: x['target'], reverse=True)     \n",
    "    total_dict = {}\n",
    "    tmp_lst = []\n",
    "    target_id = edges_sorted_lst[0]['target'] \n",
    "    for ed in edges_sorted_lst:\n",
    "        if target_id == ed[\"target\"]:\n",
    "            tmp_lst.append(ed)\n",
    "        else:\n",
    "            total_dict[target_id] = get_kwargs(lst=tmp_lst)\n",
    "            target_id = ed[\"target\"]\n",
    "            tmp_lst = [ed]\n",
    "    total_dict[target_id] = get_kwargs(lst=tmp_lst)\n",
    "    return total_dict"
   ]
  },
  {
   "cell_type": "code",
   "execution_count": 9,
   "id": "e347b417-6fbc-4697-a393-0e3fd17e631c",
   "metadata": {},
   "outputs": [],
   "source": [
    "def build_workflow(workflow, function_dict, total_dict, node_conversion_dict):\n",
    "    for k, v in function_dict.items():\n",
    "        kwargs_link_dict = total_dict[k]\n",
    "        kwargs_dict = {}\n",
    "        for kw, vw in kwargs_link_dict.items():\n",
    "            if vw[\"source\"] in node_conversion_dict.keys():\n",
    "                kwargs_dict[kw] = workflow.__getattribute__(node_conversion_dict[vw[\"source\"]])\n",
    "            else: \n",
    "                kwargs_dict[kw] = workflow.__getattr__(\"tmp_\" + str(vw[\"source\"])).__getattribute__(\"outputs\").__getattr__(vw['sourceHandle'])\n",
    "        v.update(kwargs_dict)\n",
    "        workflow.__setattr__(\"tmp_\" + str(k), function_node(**v))\n",
    "    return workflow, \"tmp_\" + str(k)"
   ]
  },
  {
   "cell_type": "code",
   "execution_count": 10,
   "id": "44a9dc68-2a99-4e8d-ba42-20859745ec45",
   "metadata": {},
   "outputs": [],
   "source": [
    "def add_x_and_y(x, y):\n",
    "    z = x + y\n",
    "    return x, y, z"
   ]
  },
  {
   "cell_type": "code",
   "execution_count": 11,
   "id": "11d864f5-7dd8-4517-b227-876f51d70f72",
   "metadata": {},
   "outputs": [],
   "source": [
    "def add_x_and_y_and_z(x, y, z):\n",
    "    w = x + y + z\n",
    "    return w"
   ]
  },
  {
   "cell_type": "code",
   "execution_count": 12,
   "id": "daac17ab-12af-4445-a054-d0c240167b2f",
   "metadata": {},
   "outputs": [],
   "source": [
    "edges_lst = [\n",
    "    {'target': 1, 'targetHandle': 'x', 'source': 0, 'sourceHandle': 'x'},\n",
    "    {'target': 1, 'targetHandle': 'y', 'source': 0, 'sourceHandle': 'y'},\n",
    "    {'target': 1, 'targetHandle': 'z', 'source': 0, 'sourceHandle': 'z'},\n",
    "    {'target': 0, 'targetHandle': 'x', 'source': 2, 'sourceHandle': None},\n",
    "    {'target': 0, 'targetHandle': 'y', 'source': 3, 'sourceHandle': None},\n",
    "]"
   ]
  },
  {
   "cell_type": "code",
   "execution_count": 13,
   "id": "161a9ec2-a63a-49f9-a1ff-1a2ac1951a43",
   "metadata": {},
   "outputs": [],
   "source": [
    "nodes_dict = {\n",
    "    0: add_x_and_y,\n",
    "    1: add_x_and_y_and_z,\n",
    "    2: 1,\n",
    "    3: 2,\n",
    "}"
   ]
  },
  {
   "cell_type": "code",
   "execution_count": 14,
   "id": "b992aedb-89c2-4cee-9e5d-c973bb6d8587",
   "metadata": {},
   "outputs": [],
   "source": [
    "wf = Workflow(\"my_workflow\")"
   ]
  },
  {
   "cell_type": "code",
   "execution_count": 15,
   "id": "f9791657-762b-43af-98bb-b9934f269293",
   "metadata": {},
   "outputs": [],
   "source": [
    "nodes_to_create_dict, node_conversion_dict = create_input_nodes(nodes_dict=nodes_dict, edges_lst=edges_lst)\n",
    "wf = set_input_nodes(workflow=wf, nodes_to_create_dict=nodes_to_create_dict)"
   ]
  },
  {
   "cell_type": "code",
   "execution_count": 16,
   "id": "d772baf3-149e-43ca-b783-f10a8bf7d64f",
   "metadata": {},
   "outputs": [],
   "source": [
    "source_handle_dict = get_source_handles(edges_lst=edges_lst)\n",
    "function_dict = get_function_nodes(nodes_dict=nodes_dict)\n",
    "total_dict = group_edges(edges_lst=edges_lst)"
   ]
  },
  {
   "cell_type": "code",
   "execution_count": 17,
   "id": "a27fe150-bdf6-4284-a166-f80a750f74f2",
   "metadata": {},
   "outputs": [],
   "source": [
    "wf, label = build_workflow(\n",
    "    workflow=wf, \n",
    "    function_dict=function_dict, \n",
    "    total_dict=total_dict, \n",
    "    node_conversion_dict=node_conversion_dict,\n",
    ")"
   ]
  },
  {
   "cell_type": "code",
   "execution_count": 18,
   "id": "ae11c0f0-8617-4b42-8ec9-94665e017146",
   "metadata": {},
   "outputs": [
    {
     "data": {
      "text/plain": [
       "6"
      ]
     },
     "execution_count": 18,
     "metadata": {},
     "output_type": "execute_result"
    }
   ],
   "source": [
    "wf.__getattr__(label).pull()"
   ]
  },
  {
   "cell_type": "code",
   "execution_count": null,
   "id": "d347f759-a890-43f8-befd-c7325afc8855",
   "metadata": {},
   "outputs": [],
   "source": []
  }
 ],
 "metadata": {
  "kernelspec": {
   "display_name": "Python 3 (ipykernel)",
   "language": "python",
   "name": "python3"
  },
  "language_info": {
   "codemirror_mode": {
    "name": "ipython",
    "version": 3
   },
   "file_extension": ".py",
   "mimetype": "text/x-python",
   "name": "python",
   "nbconvert_exporter": "python",
   "pygments_lexer": "ipython3",
   "version": "3.12.5"
  }
 },
 "nbformat": 4,
 "nbformat_minor": 5
}
